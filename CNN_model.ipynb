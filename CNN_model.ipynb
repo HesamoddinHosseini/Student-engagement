{
  "nbformat": 4,
  "nbformat_minor": 0,
  "metadata": {
    "colab": {
      "provenance": [],
      "authorship_tag": "ABX9TyNaE5HHYWnR3uEkfh+0lmkl",
      "include_colab_link": true
    },
    "kernelspec": {
      "name": "python3",
      "display_name": "Python 3"
    },
    "language_info": {
      "name": "python"
    }
  },
  "cells": [
    {
      "cell_type": "markdown",
      "metadata": {
        "id": "view-in-github",
        "colab_type": "text"
      },
      "source": [
        "<a href=\"https://colab.research.google.com/github/HesamoddinHosseini/Student-engagement/blob/main/CNN_model.ipynb\" target=\"_parent\"><img src=\"https://colab.research.google.com/assets/colab-badge.svg\" alt=\"Open In Colab\"/></a>"
      ]
    },
    {
      "cell_type": "markdown",
      "source": [
        "Libraries"
      ],
      "metadata": {
        "id": "Dc4u_mzGK6Fo"
      }
    },
    {
      "cell_type": "code",
      "source": [
        "import os\n",
        "import shutil\n",
        "import cv2\n",
        "import tensorflow as tf\n",
        "from tensorflow.keras.preprocessing.image import ImageDataGenerator\n",
        "from tensorflow import keras\n",
        "from keras.callbacks import EarlyStopping,ModelCheckpoint\n",
        "from tensorflow.keras.layers import Input, Conv2D, MaxPooling2D, AveragePooling2D, Concatenate, Flatten, Dense\n",
        "from tensorflow.keras import Model\n",
        "from keras.optimizers import Adam\n",
        "import matplotlib.pyplot as plt"
      ],
      "metadata": {
        "id": "y6L2F1jOKatA"
      },
      "execution_count": 1,
      "outputs": []
    },
    {
      "cell_type": "code",
      "source": [
        "import tensorflow as tf\n",
        "from tensorflow.keras.datasets import fashion_mnist\n",
        "from tensorflow.keras.models import Sequential\n",
        "from tensorflow.keras.layers import Dense, Dropout\n",
        "from tensorflow.keras.callbacks import EarlyStopping"
      ],
      "metadata": {
        "id": "QJDkkctXSA8g"
      },
      "execution_count": 2,
      "outputs": []
    },
    {
      "cell_type": "markdown",
      "source": [
        "Datasets and Dataloaders"
      ],
      "metadata": {
        "id": "HpcC_nIkLFrV"
      }
    },
    {
      "cell_type": "code",
      "source": [
        "#mouting the drive\n",
        "from google.colab import drive\n",
        "drive.mount('/content/drive')"
      ],
      "metadata": {
        "colab": {
          "base_uri": "https://localhost:8080/"
        },
        "id": "IW9qtO0cHgbD",
        "outputId": "766cffcf-2ed6-4925-8c07-2b1650bfe3f1"
      },
      "execution_count": 3,
      "outputs": [
        {
          "output_type": "stream",
          "name": "stdout",
          "text": [
            "Mounted at /content/drive\n"
          ]
        }
      ]
    },
    {
      "cell_type": "code",
      "source": [
        "%cd drive/MyDrive/Student-engagement-dataset"
      ],
      "metadata": {
        "colab": {
          "base_uri": "https://localhost:8080/"
        },
        "id": "pVTZimLmUmsK",
        "outputId": "a0628024-59b2-4814-f759-af82dbd15015"
      },
      "execution_count": 4,
      "outputs": [
        {
          "output_type": "stream",
          "name": "stdout",
          "text": [
            "/content/drive/MyDrive/Student-engagement-dataset\n"
          ]
        }
      ]
    },
    {
      "cell_type": "code",
      "source": [
        "data_dir = '/content/drive/MyDrive/Student-engagement-dataset/'"
      ],
      "metadata": {
        "id": "uciJQHCLUpcr"
      },
      "execution_count": 10,
      "outputs": []
    },
    {
      "cell_type": "code",
      "source": [
        "os.listdir(data_dir)"
      ],
      "metadata": {
        "colab": {
          "base_uri": "https://localhost:8080/"
        },
        "id": "xk9i5ykaUvDD",
        "outputId": "1794d1b1-5eee-4efd-cf8d-2ccf51d9ca25"
      },
      "execution_count": 11,
      "outputs": [
        {
          "output_type": "execute_result",
          "data": {
            "text/plain": [
              "['Engaged', 'Not engaged', '.ipynb_checkpoints']"
            ]
          },
          "metadata": {},
          "execution_count": 11
        }
      ]
    },
    {
      "cell_type": "code",
      "source": [
        "data_path = data_dir\n",
        "target_path = '/content/target'"
      ],
      "metadata": {
        "id": "svmpSz3HUvGt"
      },
      "execution_count": 13,
      "outputs": []
    },
    {
      "cell_type": "code",
      "source": [
        "train_dir = os.path.join(target_path, 'train')\n",
        "test_dir = os.path.join(target_path, 'test')\n",
        "valid_dir = os.path.join(target_path, 'validation')\n",
        "\n",
        "os.makedirs(target_path,exist_ok=True)\n",
        "os.makedirs(train_dir,exist_ok=True)\n",
        "os.makedirs(test_dir,exist_ok=True)\n",
        "os.makedirs(valid_dir,exist_ok=True)"
      ],
      "metadata": {
        "id": "e6QRRwRPVP0Y"
      },
      "execution_count": 14,
      "outputs": []
    },
    {
      "cell_type": "code",
      "source": [
        "img_size = (256, 256)\n",
        "for path_ in os.listdir(data_path):\n",
        "    main_class_dir = os.path.join(data_path, path_)\n",
        "    for subclass_name in os.listdir(main_class_dir):\n",
        "        subclass_dir = os.path.join(main_class_dir, subclass_name)\n",
        "\n",
        "        img_count = len(os.listdir(subclass_dir))                              # Get images count in each class\n",
        "        test_img_count = int(0.2*img_count)                                    # Number of test images\n",
        "        train_img_count = img_count - test_img_count                           # Number of train images\n",
        "\n",
        "\n",
        "        target_train_class_dir = os.path.join(train_dir, subclass_name)\n",
        "        target_test_class_dir = os.path.join(test_dir, subclass_name)\n",
        "        target_valid_class_dir = os.path.join(valid_dir, subclass_name)\n",
        "\n",
        "        os.makedirs(target_train_class_dir,exist_ok=True)                      # Create train directory path\n",
        "        os.makedirs(target_test_class_dir,exist_ok=True)                       # Create test directory path\n",
        "        os.makedirs(target_valid_class_dir,exist_ok=True)                       # Create validation directory path\n",
        "\n",
        "        for file_name in os.listdir(subclass_dir):\n",
        "            img = cv2.imread(os.path.join(subclass_dir, file_name))\n",
        "            img = cv2.resize(img, img_size)                                    # Resize image to 224 x 224\n",
        "            img = img / 255.0                                                  # Normalize pixel values to [0, 1]\n",
        "\n",
        "            if len(os.listdir(target_test_class_dir)) != test_img_count:\n",
        "                cv2.imwrite(os.path.join(target_test_class_dir, file_name), img)\n",
        "            else:\n",
        "                cv2.imwrite(os.path.join(target_train_class_dir, file_name), img)"
      ],
      "metadata": {
        "id": "HMubnJBiVV9g"
      },
      "execution_count": 15,
      "outputs": []
    },
    {
      "cell_type": "code",
      "source": [
        "print(\"img_count\",img_count)\n",
        "print(\"test_no\", test_img_count)\n",
        "print(\"train_img_no\",train_img_count)"
      ],
      "metadata": {
        "colab": {
          "base_uri": "https://localhost:8080/"
        },
        "id": "Sad2PLKwV-DY",
        "outputId": "36a1554b-aa89-41ad-cc16-df191212d452"
      },
      "execution_count": 16,
      "outputs": [
        {
          "output_type": "stream",
          "name": "stdout",
          "text": [
            "img_count 423\n",
            "test_no 84\n",
            "train_img_no 339\n"
          ]
        }
      ]
    },
    {
      "cell_type": "code",
      "source": [
        "for class_folder in os.listdir(train_dir):\n",
        "    train_class_dir = os.path.join(train_dir, class_folder)\n",
        "    valid_class_dir = os.path.join(valid_dir, class_folder)\n",
        "\n",
        "    train_ = os.path.join(target_path,'Train')\n",
        "    os.makedirs(train_,exist_ok=True)\n",
        "    new_class_dir = os.path.join(train_,class_folder)\n",
        "    os.makedirs(new_class_dir,exist_ok=True)\n",
        "\n",
        "    img_count =  len(os.listdir(train_class_dir))                           # Get images coount in each class\n",
        "    valid_img_count = int(0.2*img_count)                                    # Number of validation images\n",
        "    train_img_count = img_count - valid_img_count                           # Number of train images\n",
        "\n",
        "    for file_name in os.listdir(train_class_dir):\n",
        "        img = cv2.imread(os.path.join(train_class_dir, file_name))\n",
        "        if len(os.listdir(valid_class_dir)) != valid_img_count:\n",
        "            cv2.imwrite(os.path.join(valid_class_dir, file_name), img)\n",
        "        else:\n",
        "            cv2.imwrite(os.path.join(new_class_dir, file_name), img)\n",
        "\n",
        "shutil.rmtree(train_dir)\n",
        "train_dir = train_"
      ],
      "metadata": {
        "id": "upYyg6J5ZUQ5"
      },
      "execution_count": 17,
      "outputs": []
    },
    {
      "cell_type": "code",
      "source": [
        "print(\"img_count\",img_count)\n",
        "print(\"test_no\", test_img_count)\n",
        "print(\"train_img_no\",train_img_count)"
      ],
      "metadata": {
        "colab": {
          "base_uri": "https://localhost:8080/"
        },
        "id": "GBpygqHMGo4G",
        "outputId": "8824432a-5463-4ee5-c026-7bda5e858d12"
      },
      "execution_count": 18,
      "outputs": [
        {
          "output_type": "stream",
          "name": "stdout",
          "text": [
            "img_count 358\n",
            "test_no 84\n",
            "train_img_no 287\n"
          ]
        }
      ]
    },
    {
      "cell_type": "code",
      "source": [
        "batch_size = 32\n",
        "img_size = (256, 256,3)\n",
        "\n",
        "train_datagen = ImageDataGenerator()\n",
        "val_datagen = ImageDataGenerator()\n",
        "test_datagen = ImageDataGenerator()\n",
        "\n",
        "\n",
        "train_generator = train_datagen.flow_from_directory(\n",
        "        train_dir,\n",
        "        batch_size=batch_size,\n",
        "        class_mode = 'categorical',\n",
        "        shuffle=True)\n",
        "\n",
        "\n",
        "val_generator = val_datagen.flow_from_directory(\n",
        "        valid_dir,\n",
        "        batch_size=batch_size,\n",
        "        class_mode = 'categorical',\n",
        "        shuffle=True)\n",
        "\n",
        "test_generator = test_datagen.flow_from_directory(\n",
        "        test_dir,\n",
        "        batch_size=batch_size,\n",
        "        class_mode = 'categorical',\n",
        "        shuffle=True)\n",
        "\n",
        "print(train_generator.class_indices)"
      ],
      "metadata": {
        "colab": {
          "base_uri": "https://localhost:8080/"
        },
        "id": "oqixx_hpaJ0q",
        "outputId": "845fb342-f608-411b-882c-ffe4b26da75e"
      },
      "execution_count": 19,
      "outputs": [
        {
          "output_type": "stream",
          "name": "stdout",
          "text": [
            "Found 1699 images belonging to 6 classes.\n",
            "Found 421 images belonging to 6 classes.\n",
            "Found 421 images belonging to 6 classes.\n",
            "{'Looking Away': 0, 'bored': 1, 'confused': 2, 'drowsy': 3, 'engaged': 4, 'frustrated': 5}\n"
          ]
        }
      ]
    },
    {
      "cell_type": "code",
      "source": [
        "model = keras.models.Sequential([\n",
        "    keras.layers.Conv2D(64, (3,3), activation='relu', input_shape=img_size),\n",
        "    keras.layers.MaxPooling2D(3,3),\n",
        "    keras.layers.Dropout(0.8),\n",
        "\n",
        "\n",
        "\n",
        "    keras.layers.Conv2D(128, (3,3), activation='relu'),\n",
        "    keras.layers.MaxPooling2D(3,3),\n",
        "    keras.layers.Dropout(0.8),\n",
        "\n",
        "    keras.layers.Flatten(),\n",
        "\n",
        "    keras.layers.Dense(1024, activation='relu'),\n",
        "    keras.layers.Dropout(0.7),\n",
        "\n",
        "    keras.layers.Dense(1024, activation='relu'),\n",
        "    keras.layers.Dropout(0.7),\n",
        "\n",
        "    keras.layers.Dense(6, activation='softmax')\n",
        "])\n",
        "model.summary()\n",
        "\n",
        "model.compile(optimizer=Adam() ,loss=\"categorical_crossentropy\", metrics = ['accuracy'])\n"
      ],
      "metadata": {
        "colab": {
          "base_uri": "https://localhost:8080/"
        },
        "id": "MPf2sUhsag8F",
        "outputId": "b50b581a-413e-4b56-b989-b0709c90c4c6"
      },
      "execution_count": 20,
      "outputs": [
        {
          "output_type": "stream",
          "name": "stdout",
          "text": [
            "Model: \"sequential\"\n",
            "_________________________________________________________________\n",
            " Layer (type)                Output Shape              Param #   \n",
            "=================================================================\n",
            " conv2d (Conv2D)             (None, 254, 254, 64)      1792      \n",
            "                                                                 \n",
            " max_pooling2d (MaxPooling2  (None, 84, 84, 64)        0         \n",
            " D)                                                              \n",
            "                                                                 \n",
            " dropout (Dropout)           (None, 84, 84, 64)        0         \n",
            "                                                                 \n",
            " conv2d_1 (Conv2D)           (None, 82, 82, 128)       73856     \n",
            "                                                                 \n",
            " max_pooling2d_1 (MaxPoolin  (None, 27, 27, 128)       0         \n",
            " g2D)                                                            \n",
            "                                                                 \n",
            " dropout_1 (Dropout)         (None, 27, 27, 128)       0         \n",
            "                                                                 \n",
            " flatten (Flatten)           (None, 93312)             0         \n",
            "                                                                 \n",
            " dense (Dense)               (None, 1024)              95552512  \n",
            "                                                                 \n",
            " dropout_2 (Dropout)         (None, 1024)              0         \n",
            "                                                                 \n",
            " dense_1 (Dense)             (None, 1024)              1049600   \n",
            "                                                                 \n",
            " dropout_3 (Dropout)         (None, 1024)              0         \n",
            "                                                                 \n",
            " dense_2 (Dense)             (None, 6)                 6150      \n",
            "                                                                 \n",
            "=================================================================\n",
            "Total params: 96683910 (368.82 MB)\n",
            "Trainable params: 96683910 (368.82 MB)\n",
            "Non-trainable params: 0 (0.00 Byte)\n",
            "_________________________________________________________________\n"
          ]
        }
      ]
    },
    {
      "cell_type": "code",
      "source": [
        "checkpoint = ModelCheckpoint(\"Student Engagement Model.h5\", monitor='val_accuracy', verbose=1,\n",
        "                             save_best_only=True, save_weights_only=False, mode='auto', period=1)\n",
        "early_stopping = EarlyStopping(monitor='val_accuracy', min_delta=0, patience=9, verbose=1, mode='auto')\n",
        "\n",
        "\n",
        "history = model.fit(train_generator, validation_data= val_generator,\n",
        "                           epochs=10,callbacks=[checkpoint,early_stopping])"
      ],
      "metadata": {
        "colab": {
          "base_uri": "https://localhost:8080/"
        },
        "id": "bTa_scJ4av2S",
        "outputId": "4d3534ad-c68b-4b2d-a73a-740fd5d09932"
      },
      "execution_count": 22,
      "outputs": [
        {
          "metadata": {
            "tags": null
          },
          "name": "stderr",
          "output_type": "stream",
          "text": [
            "WARNING:tensorflow:`period` argument is deprecated. Please use `save_freq` to specify the frequency in number of batches seen.\n"
          ]
        },
        {
          "output_type": "stream",
          "name": "stdout",
          "text": [
            "Epoch 1/10\n",
            "54/54 [==============================] - ETA: 0s - loss: 0.1160 - accuracy: 0.9488\n",
            "Epoch 1: val_accuracy improved from -inf to 0.96200, saving model to Student Engagement Model.h5\n",
            "54/54 [==============================] - 364s 7s/step - loss: 0.1160 - accuracy: 0.9488 - val_loss: 0.3107 - val_accuracy: 0.9620\n",
            "Epoch 2/10\n",
            "54/54 [==============================] - ETA: 0s - loss: 0.1161 - accuracy: 0.9459\n",
            "Epoch 2: val_accuracy improved from 0.96200 to 0.96437, saving model to Student Engagement Model.h5\n",
            "54/54 [==============================] - 371s 7s/step - loss: 0.1161 - accuracy: 0.9459 - val_loss: 0.3346 - val_accuracy: 0.9644\n",
            "Epoch 3/10\n",
            "54/54 [==============================] - ETA: 0s - loss: 0.0944 - accuracy: 0.9553\n",
            "Epoch 3: val_accuracy did not improve from 0.96437\n",
            "54/54 [==============================] - 354s 6s/step - loss: 0.0944 - accuracy: 0.9553 - val_loss: 0.1758 - val_accuracy: 0.9501\n",
            "Epoch 4/10\n",
            "54/54 [==============================] - ETA: 0s - loss: 0.1037 - accuracy: 0.9553\n",
            "Epoch 4: val_accuracy did not improve from 0.96437\n",
            "54/54 [==============================] - 337s 6s/step - loss: 0.1037 - accuracy: 0.9553 - val_loss: 0.2442 - val_accuracy: 0.9477\n",
            "Epoch 5/10\n",
            "54/54 [==============================] - ETA: 0s - loss: 0.1155 - accuracy: 0.9547\n",
            "Epoch 5: val_accuracy did not improve from 0.96437\n",
            "54/54 [==============================] - 353s 7s/step - loss: 0.1155 - accuracy: 0.9547 - val_loss: 0.4028 - val_accuracy: 0.9287\n",
            "Epoch 6/10\n",
            "54/54 [==============================] - ETA: 0s - loss: 0.1061 - accuracy: 0.9559\n",
            "Epoch 6: val_accuracy did not improve from 0.96437\n",
            "54/54 [==============================] - 338s 6s/step - loss: 0.1061 - accuracy: 0.9559 - val_loss: 0.2450 - val_accuracy: 0.9620\n",
            "Epoch 7/10\n",
            "54/54 [==============================] - ETA: 0s - loss: 0.0927 - accuracy: 0.9523\n",
            "Epoch 7: val_accuracy did not improve from 0.96437\n",
            "54/54 [==============================] - 347s 6s/step - loss: 0.0927 - accuracy: 0.9523 - val_loss: 0.2990 - val_accuracy: 0.9596\n",
            "Epoch 8/10\n",
            "54/54 [==============================] - ETA: 0s - loss: 0.1071 - accuracy: 0.9517\n",
            "Epoch 8: val_accuracy did not improve from 0.96437\n",
            "54/54 [==============================] - 338s 6s/step - loss: 0.1071 - accuracy: 0.9517 - val_loss: 0.2562 - val_accuracy: 0.9525\n",
            "Epoch 9/10\n",
            "54/54 [==============================] - ETA: 0s - loss: 0.1064 - accuracy: 0.9417\n",
            "Epoch 9: val_accuracy did not improve from 0.96437\n",
            "54/54 [==============================] - 342s 6s/step - loss: 0.1064 - accuracy: 0.9417 - val_loss: 0.2216 - val_accuracy: 0.9501\n",
            "Epoch 10/10\n",
            "54/54 [==============================] - ETA: 0s - loss: 0.1113 - accuracy: 0.9488\n",
            "Epoch 10: val_accuracy did not improve from 0.96437\n",
            "54/54 [==============================] - 346s 6s/step - loss: 0.1113 - accuracy: 0.9488 - val_loss: 0.4165 - val_accuracy: 0.9477\n"
          ]
        }
      ]
    },
    {
      "cell_type": "code",
      "source": [
        "test_loss, test_accuracy = model.evaluate(test_generator)\n",
        "\n",
        "# Print the test loss and accuracy\n",
        "print(f\"Test Loss: {test_loss:.4f}\")\n",
        "print(f\"Test Accuracy: {test_accuracy:.4f}\")"
      ],
      "metadata": {
        "colab": {
          "base_uri": "https://localhost:8080/"
        },
        "id": "MVz8Gb1ThSKo",
        "outputId": "71c7ab07-444f-484f-dc10-140b18c43771"
      },
      "execution_count": 23,
      "outputs": [
        {
          "output_type": "stream",
          "name": "stdout",
          "text": [
            "14/14 [==============================] - 21s 1s/step - loss: 0.4102 - accuracy: 0.9525\n",
            "Test Loss: 0.4102\n",
            "Test Accuracy: 0.9525\n"
          ]
        }
      ]
    },
    {
      "cell_type": "code",
      "source": [
        "plt.plot(history.history[\"accuracy\"])\n",
        "plt.plot(history.history['val_accuracy'])\n",
        "plt.plot(history.history['loss'])\n",
        "plt.plot(history.history['val_loss'])\n",
        "plt.title(\"model accuracy\")\n",
        "plt.ylabel(\"Accuracy\")\n",
        "plt.xlabel(\"Epoch\")\n",
        "plt.legend([\"Accuracy\",\"Validation Accuracy\",\"loss\",\"Validation Loss\"])\n",
        "plt.show()"
      ],
      "metadata": {
        "colab": {
          "base_uri": "https://localhost:8080/",
          "height": 472
        },
        "id": "sjioeJnQhrRf",
        "outputId": "73e91219-a125-4a30-f04c-3553e2485201"
      },
      "execution_count": 24,
      "outputs": [
        {
          "output_type": "display_data",
          "data": {
            "text/plain": [
              "<Figure size 640x480 with 1 Axes>"
            ],
            "image/png": "[encoded data removed]"
          },
          "metadata": {}
        }
      ]
    }
  ]
}