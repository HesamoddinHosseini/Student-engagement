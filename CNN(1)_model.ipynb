{
  "nbformat": 4,
  "nbformat_minor": 0,
  "metadata": {
    "colab": {
      "provenance": [],
      "authorship_tag": "ABX9TyPf9i84PkoxScNv+vmNQ5Ej",
      "include_colab_link": true
    },
    "kernelspec": {
      "name": "python3",
      "display_name": "Python 3"
    },
    "language_info": {
      "name": "python"
    }
  },
  "cells": [
    {
      "cell_type": "markdown",
      "metadata": {
        "id": "view-in-github",
        "colab_type": "text"
      },
      "source": [
        "<a href=\"https://colab.research.google.com/github/HesamoddinHosseini/Student-engagement/blob/main/CNN(1)_model.ipynb\" target=\"_parent\"><img src=\"https://colab.research.google.com/assets/colab-badge.svg\" alt=\"Open In Colab\"/></a>"
      ]
    },
    {
      "cell_type": "markdown",
      "source": [
        "**SEYED HESAMODDIN HOSSEINI**"
      ],
      "metadata": {
        "id": "fRFAGOWKyzDW"
      }
    },
    {
      "cell_type": "markdown",
      "source": [
        "***Student Engagement (Link Dataset)***:https://www.kaggle.com/datasets/joyee19/studentengagement/data"
      ],
      "metadata": {
        "id": "vkw30q6xybWR"
      }
    },
    {
      "cell_type": "markdown",
      "source": [
        "Libraries"
      ],
      "metadata": {
        "id": "Dc4u_mzGK6Fo"
      }
    },
    {
      "cell_type": "code",
      "source": [
        "import os\n",
        "import shutil\n",
        "import cv2\n",
        "import tensorflow as tf\n",
        "from tensorflow.keras.preprocessing.image import ImageDataGenerator\n",
        "from tensorflow import keras\n",
        "from keras.callbacks import EarlyStopping,ModelCheckpoint\n",
        "from tensorflow.keras.layers import Input, Conv2D, MaxPooling2D, AveragePooling2D, Concatenate, Flatten, Dense\n",
        "from tensorflow.keras import Model\n",
        "from keras.optimizers import Adam\n",
        "import matplotlib.pyplot as plt"
      ],
      "metadata": {
        "id": "y6L2F1jOKatA"
      },
      "execution_count": 1,
      "outputs": []
    },
    {
      "cell_type": "code",
      "source": [
        "import tensorflow as tf\n",
        "from tensorflow.keras.datasets import fashion_mnist\n",
        "from tensorflow.keras.models import Sequential\n",
        "from tensorflow.keras.layers import Dense, Dropout\n",
        "from tensorflow.keras.callbacks import EarlyStopping"
      ],
      "metadata": {
        "id": "QJDkkctXSA8g"
      },
      "execution_count": 4,
      "outputs": []
    },
    {
      "cell_type": "markdown",
      "source": [
        "Datasets and Dataloaders"
      ],
      "metadata": {
        "id": "HpcC_nIkLFrV"
      }
    },
    {
      "cell_type": "code",
      "source": [
        "#mouting the drive\n",
        "from google.colab import drive\n",
        "drive.mount('/content/drive')"
      ],
      "metadata": {
        "colab": {
          "base_uri": "https://localhost:8080/"
        },
        "id": "IW9qtO0cHgbD",
        "outputId": "7c463160-3f6e-4b7c-f3f5-c31aa24ffd13"
      },
      "execution_count": 5,
      "outputs": [
        {
          "output_type": "stream",
          "name": "stdout",
          "text": [
            "Mounted at /content/drive\n"
          ]
        }
      ]
    },
    {
      "cell_type": "code",
      "source": [
        "%cd drive/MyDrive/Student-engagement-dataset"
      ],
      "metadata": {
        "colab": {
          "base_uri": "https://localhost:8080/"
        },
        "id": "pVTZimLmUmsK",
        "outputId": "6822f7bb-4103-4742-b7a8-0e39b84fc8b0"
      },
      "execution_count": 6,
      "outputs": [
        {
          "output_type": "stream",
          "name": "stdout",
          "text": [
            "/content/drive/MyDrive/Student-engagement-dataset\n"
          ]
        }
      ]
    },
    {
      "cell_type": "code",
      "source": [
        "data_dir = '/content/drive/MyDrive/Student-engagement-dataset/'"
      ],
      "metadata": {
        "id": "uciJQHCLUpcr"
      },
      "execution_count": 7,
      "outputs": []
    },
    {
      "cell_type": "code",
      "source": [
        "os.listdir(data_dir)"
      ],
      "metadata": {
        "colab": {
          "base_uri": "https://localhost:8080/"
        },
        "id": "xk9i5ykaUvDD",
        "outputId": "21a3b431-1aec-4bea-a4a5-3fce88442871"
      },
      "execution_count": 8,
      "outputs": [
        {
          "output_type": "execute_result",
          "data": {
            "text/plain": [
              "['Engaged', 'Not engaged', '.ipynb_checkpoints']"
            ]
          },
          "metadata": {},
          "execution_count": 8
        }
      ]
    },
    {
      "cell_type": "code",
      "source": [
        "data_path = data_dir\n",
        "target_path = '/content/target'"
      ],
      "metadata": {
        "id": "svmpSz3HUvGt"
      },
      "execution_count": 9,
      "outputs": []
    },
    {
      "cell_type": "code",
      "source": [
        "train_dir = os.path.join(target_path, 'train')\n",
        "test_dir = os.path.join(target_path, 'test')\n",
        "valid_dir = os.path.join(target_path, 'validation')\n",
        "\n",
        "os.makedirs(target_path,exist_ok=True)\n",
        "os.makedirs(train_dir,exist_ok=True)\n",
        "os.makedirs(test_dir,exist_ok=True)\n",
        "os.makedirs(valid_dir,exist_ok=True)"
      ],
      "metadata": {
        "id": "e6QRRwRPVP0Y"
      },
      "execution_count": 10,
      "outputs": []
    },
    {
      "cell_type": "code",
      "source": [
        "img_size = (256, 256)\n",
        "for path_ in os.listdir(data_path):\n",
        "    main_class_dir = os.path.join(data_path, path_)\n",
        "    for subclass_name in os.listdir(main_class_dir):\n",
        "        subclass_dir = os.path.join(main_class_dir, subclass_name)\n",
        "\n",
        "        img_count = len(os.listdir(subclass_dir))                              # Get images count in each class\n",
        "        test_img_count = int(0.2*img_count)                                    # Number of test images\n",
        "        train_img_count = img_count - test_img_count                           # Number of train images\n",
        "\n",
        "\n",
        "        target_train_class_dir = os.path.join(train_dir, subclass_name)\n",
        "        target_test_class_dir = os.path.join(test_dir, subclass_name)\n",
        "        target_valid_class_dir = os.path.join(valid_dir, subclass_name)\n",
        "\n",
        "        os.makedirs(target_train_class_dir,exist_ok=True)                      # Create train directory path\n",
        "        os.makedirs(target_test_class_dir,exist_ok=True)                       # Create test directory path\n",
        "        os.makedirs(target_valid_class_dir,exist_ok=True)                       # Create validation directory path\n",
        "\n",
        "        for file_name in os.listdir(subclass_dir):\n",
        "            img = cv2.imread(os.path.join(subclass_dir, file_name))\n",
        "            img = cv2.resize(img, img_size)                                    # Resize image to 224 x 224\n",
        "            img = img / 255.0                                                  # Normalize pixel values to [0, 1]\n",
        "\n",
        "            if len(os.listdir(target_test_class_dir)) != test_img_count:\n",
        "                cv2.imwrite(os.path.join(target_test_class_dir, file_name), img)\n",
        "            else:\n",
        "                cv2.imwrite(os.path.join(target_train_class_dir, file_name), img)"
      ],
      "metadata": {
        "id": "HMubnJBiVV9g"
      },
      "execution_count": 11,
      "outputs": []
    },
    {
      "cell_type": "code",
      "source": [
        "for class_folder in os.listdir(train_dir):\n",
        "    train_class_dir = os.path.join(train_dir, class_folder)\n",
        "    valid_class_dir = os.path.join(valid_dir, class_folder)\n",
        "\n",
        "    train_ = os.path.join(target_path,'Train')\n",
        "    os.makedirs(train_,exist_ok=True)\n",
        "    new_class_dir = os.path.join(train_,class_folder)\n",
        "    os.makedirs(new_class_dir,exist_ok=True)\n",
        "\n",
        "    img_count =  len(os.listdir(train_class_dir))                           # Get images coount in each class\n",
        "    valid_img_count = int(0.2*img_count)                                    # Number of validation images\n",
        "    train_img_count = img_count - valid_img_count                           # Number of train images\n",
        "\n",
        "    for file_name in os.listdir(train_class_dir):\n",
        "        img = cv2.imread(os.path.join(train_class_dir, file_name))\n",
        "        if len(os.listdir(valid_class_dir)) != valid_img_count:\n",
        "            cv2.imwrite(os.path.join(valid_class_dir, file_name), img)\n",
        "        else:\n",
        "            cv2.imwrite(os.path.join(new_class_dir, file_name), img)\n",
        "\n",
        "shutil.rmtree(train_dir)\n",
        "train_dir = train_"
      ],
      "metadata": {
        "id": "upYyg6J5ZUQ5"
      },
      "execution_count": 12,
      "outputs": []
    },
    {
      "cell_type": "code",
      "source": [
        "batch_size = 32\n",
        "img_size = (256, 256,3)\n",
        "\n",
        "train_datagen = ImageDataGenerator()\n",
        "val_datagen = ImageDataGenerator()\n",
        "test_datagen = ImageDataGenerator()\n",
        "\n",
        "\n",
        "train_generator = train_datagen.flow_from_directory(\n",
        "        train_dir,\n",
        "        batch_size=batch_size,\n",
        "        class_mode = 'categorical',\n",
        "        shuffle=True)\n",
        "\n",
        "\n",
        "val_generator = val_datagen.flow_from_directory(\n",
        "        valid_dir,\n",
        "        batch_size=batch_size,\n",
        "        class_mode = 'categorical',\n",
        "        shuffle=True)\n",
        "\n",
        "test_generator = test_datagen.flow_from_directory(\n",
        "        test_dir,\n",
        "        batch_size=batch_size,\n",
        "        class_mode = 'categorical',\n",
        "        shuffle=True)\n",
        "\n",
        "print(train_generator.class_indices)"
      ],
      "metadata": {
        "colab": {
          "base_uri": "https://localhost:8080/"
        },
        "id": "oqixx_hpaJ0q",
        "outputId": "d72edb24-bc32-4ac8-9ea6-ab78803e9311"
      },
      "execution_count": 13,
      "outputs": [
        {
          "output_type": "stream",
          "name": "stdout",
          "text": [
            "Found 1362 images belonging to 6 classes.\n",
            "Found 337 images belonging to 6 classes.\n",
            "Found 421 images belonging to 6 classes.\n",
            "{'Looking Away': 0, 'bored': 1, 'confused': 2, 'drowsy': 3, 'engaged': 4, 'frustrated': 5}\n"
          ]
        }
      ]
    },
    {
      "cell_type": "code",
      "source": [
        "model = keras.models.Sequential([\n",
        "    keras.layers.Conv2D(64, (3,3), activation='relu', input_shape=img_size),\n",
        "    keras.layers.MaxPooling2D(3,3),\n",
        "    keras.layers.Dropout(0.8),\n",
        "\n",
        "\n",
        "\n",
        "    keras.layers.Conv2D(128, (3,3), activation='relu'),\n",
        "    keras.layers.MaxPooling2D(3,3),\n",
        "    keras.layers.Dropout(0.8),\n",
        "\n",
        "    keras.layers.Flatten(),\n",
        "\n",
        "    keras.layers.Dense(1024, activation='relu'),\n",
        "    keras.layers.Dropout(0.7),\n",
        "\n",
        "    keras.layers.Dense(1024, activation='relu'),\n",
        "    keras.layers.Dropout(0.7),\n",
        "\n",
        "    keras.layers.Dense(6, activation='softmax')\n",
        "])\n",
        "model.summary()\n",
        "\n",
        "model.compile(optimizer=Adam() ,loss=\"categorical_crossentropy\", metrics = ['accuracy'])\n"
      ],
      "metadata": {
        "colab": {
          "base_uri": "https://localhost:8080/"
        },
        "id": "MPf2sUhsag8F",
        "outputId": "839563a2-0236-485f-e47c-2e6906ce126d"
      },
      "execution_count": 14,
      "outputs": [
        {
          "output_type": "stream",
          "name": "stdout",
          "text": [
            "Model: \"sequential\"\n",
            "_________________________________________________________________\n",
            " Layer (type)                Output Shape              Param #   \n",
            "=================================================================\n",
            " conv2d (Conv2D)             (None, 254, 254, 64)      1792      \n",
            "                                                                 \n",
            " max_pooling2d (MaxPooling2  (None, 84, 84, 64)        0         \n",
            " D)                                                              \n",
            "                                                                 \n",
            " dropout (Dropout)           (None, 84, 84, 64)        0         \n",
            "                                                                 \n",
            " conv2d_1 (Conv2D)           (None, 82, 82, 128)       73856     \n",
            "                                                                 \n",
            " max_pooling2d_1 (MaxPoolin  (None, 27, 27, 128)       0         \n",
            " g2D)                                                            \n",
            "                                                                 \n",
            " dropout_1 (Dropout)         (None, 27, 27, 128)       0         \n",
            "                                                                 \n",
            " flatten (Flatten)           (None, 93312)             0         \n",
            "                                                                 \n",
            " dense (Dense)               (None, 1024)              95552512  \n",
            "                                                                 \n",
            " dropout_2 (Dropout)         (None, 1024)              0         \n",
            "                                                                 \n",
            " dense_1 (Dense)             (None, 1024)              1049600   \n",
            "                                                                 \n",
            " dropout_3 (Dropout)         (None, 1024)              0         \n",
            "                                                                 \n",
            " dense_2 (Dense)             (None, 6)                 6150      \n",
            "                                                                 \n",
            "=================================================================\n",
            "Total params: 96683910 (368.82 MB)\n",
            "Trainable params: 96683910 (368.82 MB)\n",
            "Non-trainable params: 0 (0.00 Byte)\n",
            "_________________________________________________________________\n"
          ]
        }
      ]
    },
    {
      "cell_type": "code",
      "source": [
        "checkpoint = ModelCheckpoint(\"Student Engagement Model.h5\", monitor='val_accuracy', verbose=1,\n",
        "                             save_best_only=True, save_weights_only=False, mode='auto', period=1)\n",
        "early_stopping = EarlyStopping(monitor='val_accuracy', min_delta=0, patience=9, verbose=1, mode='auto')\n",
        "\n",
        "\n",
        "history = model.fit(train_generator, validation_data= val_generator,\n",
        "                           epochs=30,callbacks=[checkpoint,early_stopping])"
      ],
      "metadata": {
        "colab": {
          "base_uri": "https://localhost:8080/"
        },
        "id": "bTa_scJ4av2S",
        "outputId": "24e135d5-6867-418a-a391-3a71f6c96178"
      },
      "execution_count": 15,
      "outputs": [
        {
          "metadata": {
            "tags": null
          },
          "name": "stderr",
          "output_type": "stream",
          "text": [
            "WARNING:tensorflow:`period` argument is deprecated. Please use `save_freq` to specify the frequency in number of batches seen.\n"
          ]
        },
        {
          "metadata": {
            "tags": null
          },
          "name": "stdout",
          "output_type": "stream",
          "text": [
            "Epoch 1/30\n",
            "43/43 [==============================] - ETA: 0s - loss: 4.1399 - accuracy: 0.4537\n",
            "Epoch 1: val_accuracy improved from -inf to 0.35015, saving model to Student Engagement Model.h5\n"
          ]
        },
        {
          "metadata": {
            "tags": null
          },
          "name": "stderr",
          "output_type": "stream",
          "text": [
            "/usr/local/lib/python3.10/dist-packages/keras/src/engine/training.py:3103: UserWarning: You are saving your model as an HDF5 file via `model.save()`. This file format is considered legacy. We recommend using instead the native Keras format, e.g. `model.save('my_model.keras')`.\n",
            "  saving_api.save_model(\n"
          ]
        },
        {
          "output_type": "stream",
          "name": "stdout",
          "text": [
            "43/43 [==============================] - 390s 9s/step - loss: 4.1399 - accuracy: 0.4537 - val_loss: 1.7184 - val_accuracy: 0.3501\n",
            "Epoch 2/30\n",
            "43/43 [==============================] - ETA: 0s - loss: 0.6471 - accuracy: 0.7364\n",
            "Epoch 2: val_accuracy improved from 0.35015 to 0.84570, saving model to Student Engagement Model.h5\n",
            "43/43 [==============================] - 396s 9s/step - loss: 0.6471 - accuracy: 0.7364 - val_loss: 1.3172 - val_accuracy: 0.8457\n",
            "Epoch 3/30\n",
            "43/43 [==============================] - ETA: 0s - loss: 0.3672 - accuracy: 0.8605\n",
            "Epoch 3: val_accuracy improved from 0.84570 to 0.94955, saving model to Student Engagement Model.h5\n",
            "43/43 [==============================] - 364s 8s/step - loss: 0.3672 - accuracy: 0.8605 - val_loss: 0.6368 - val_accuracy: 0.9496\n",
            "Epoch 4/30\n",
            "43/43 [==============================] - ETA: 0s - loss: 0.2189 - accuracy: 0.9178\n",
            "Epoch 4: val_accuracy did not improve from 0.94955\n",
            "43/43 [==============================] - 361s 8s/step - loss: 0.2189 - accuracy: 0.9178 - val_loss: 0.4313 - val_accuracy: 0.9436\n",
            "Epoch 5/30\n",
            "43/43 [==============================] - ETA: 0s - loss: 0.1541 - accuracy: 0.9339\n",
            "Epoch 5: val_accuracy did not improve from 0.94955\n",
            "43/43 [==============================] - 358s 8s/step - loss: 0.1541 - accuracy: 0.9339 - val_loss: 0.2930 - val_accuracy: 0.9318\n",
            "Epoch 6/30\n",
            "43/43 [==============================] - ETA: 0s - loss: 0.1706 - accuracy: 0.9273\n",
            "Epoch 6: val_accuracy did not improve from 0.94955\n",
            "43/43 [==============================] - 350s 8s/step - loss: 0.1706 - accuracy: 0.9273 - val_loss: 0.3389 - val_accuracy: 0.9466\n",
            "Epoch 7/30\n",
            "43/43 [==============================] - ETA: 0s - loss: 0.1359 - accuracy: 0.9471\n",
            "Epoch 7: val_accuracy did not improve from 0.94955\n",
            "43/43 [==============================] - 352s 8s/step - loss: 0.1359 - accuracy: 0.9471 - val_loss: 0.3003 - val_accuracy: 0.9377\n",
            "Epoch 8/30\n",
            "43/43 [==============================] - ETA: 0s - loss: 0.1579 - accuracy: 0.9347\n",
            "Epoch 8: val_accuracy did not improve from 0.94955\n",
            "43/43 [==============================] - 344s 8s/step - loss: 0.1579 - accuracy: 0.9347 - val_loss: 0.3901 - val_accuracy: 0.9407\n",
            "Epoch 9/30\n",
            "43/43 [==============================] - ETA: 0s - loss: 0.1202 - accuracy: 0.9427\n",
            "Epoch 9: val_accuracy did not improve from 0.94955\n",
            "43/43 [==============================] - 353s 8s/step - loss: 0.1202 - accuracy: 0.9427 - val_loss: 0.2773 - val_accuracy: 0.9466\n",
            "Epoch 10/30\n",
            "43/43 [==============================] - ETA: 0s - loss: 0.1192 - accuracy: 0.9545\n",
            "Epoch 10: val_accuracy did not improve from 0.94955\n",
            "43/43 [==============================] - 342s 8s/step - loss: 0.1192 - accuracy: 0.9545 - val_loss: 0.3025 - val_accuracy: 0.9347\n",
            "Epoch 11/30\n",
            "43/43 [==============================] - ETA: 0s - loss: 0.1440 - accuracy: 0.9442\n",
            "Epoch 11: val_accuracy did not improve from 0.94955\n",
            "43/43 [==============================] - 352s 8s/step - loss: 0.1440 - accuracy: 0.9442 - val_loss: 0.7739 - val_accuracy: 0.8902\n",
            "Epoch 12/30\n",
            "43/43 [==============================] - ETA: 0s - loss: 0.1219 - accuracy: 0.9405\n",
            "Epoch 12: val_accuracy did not improve from 0.94955\n",
            "43/43 [==============================] - 342s 8s/step - loss: 0.1219 - accuracy: 0.9405 - val_loss: 0.2485 - val_accuracy: 0.9110\n",
            "Epoch 12: early stopping\n"
          ]
        }
      ]
    },
    {
      "cell_type": "code",
      "source": [
        "test_loss, test_accuracy = model.evaluate(test_generator)\n",
        "\n",
        "# Print the test loss and accuracy\n",
        "print(f\"Test Loss: {test_loss:.4f}\")\n",
        "print(f\"Test Accuracy: {test_accuracy:.4f}\")"
      ],
      "metadata": {
        "colab": {
          "base_uri": "https://localhost:8080/"
        },
        "id": "MVz8Gb1ThSKo",
        "outputId": "decf41ca-0054-4355-8519-32fe8bd065b5"
      },
      "execution_count": 16,
      "outputs": [
        {
          "output_type": "stream",
          "name": "stdout",
          "text": [
            "14/14 [==============================] - 26s 2s/step - loss: 0.2406 - accuracy: 0.9192\n",
            "Test Loss: 0.2406\n",
            "Test Accuracy: 0.9192\n"
          ]
        }
      ]
    },
    {
      "cell_type": "code",
      "source": [
        "plt.plot(history.history[\"accuracy\"])\n",
        "plt.plot(history.history['val_accuracy'])\n",
        "plt.plot(history.history['loss'])\n",
        "plt.plot(history.history['val_loss'])\n",
        "plt.title(\"model accuracy\")\n",
        "plt.ylabel(\"Accuracy\")\n",
        "plt.xlabel(\"Epoch\")\n",
        "plt.legend([\"Accuracy\",\"Validation Accuracy\",\"loss\",\"Validation Loss\"])\n",
        "plt.show()"
      ],
      "metadata": {
        "colab": {
          "base_uri": "https://localhost:8080/",
          "height": 472
        },
        "id": "sjioeJnQhrRf",
        "outputId": "14467bde-91ad-4985-dbd9-1cae473b0e3e"
      },
      "execution_count": 17,
      "outputs": [
        {
          "output_type": "display_data",
          "data": {
            "text/plain": [
              "<Figure size 640x480 with 1 Axes>"
            ],
            "image/png": "[encoded data removed]"
          },
          "metadata": {}
        }
      ]
    }
  ]
}